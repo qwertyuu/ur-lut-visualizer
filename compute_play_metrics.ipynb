{
 "cells": [
  {
   "cell_type": "code",
   "execution_count": 50,
   "metadata": {},
   "outputs": [],
   "source": [
    "import random\n",
    "from royalur import Game\n",
    "from royalur.model.player import PlayerType\n",
    "from royalur.lut.board_encoder import SimpleGameStateEncoding\n",
    "from huggingface_hub import hf_hub_download\n",
    "from royalur import LutAgent\n",
    "import os\n",
    "\n",
    "encoding = SimpleGameStateEncoding()\n",
    "REPO_ID = \"sothatsit/RoyalUr\"\n",
    "FILENAME = \"finkel.rgu\"\n",
    "filename = hf_hub_download(\n",
    "    repo_id=REPO_ID, filename=FILENAME, cache_dir=os.getenv(\"HF_CACHE_DIR\", None)\n",
    ")\n",
    "lut_player = LutAgent(filename)\n",
    "lut = lut_player.lut\n",
    "\n",
    "\n",
    "def lut_get_value(game_state, get_for_player):\n",
    "    if game_state.is_finished():\n",
    "        score_for_player = game_state.get_winner()\n",
    "        value = 65535 if game_state.get_winner() == get_for_player else 0\n",
    "    else:\n",
    "        score_for_player = game_state.get_turn()\n",
    "\n",
    "        # normalize turn to light for the LUT\n",
    "        if game_state.get_turn() == PlayerType.DARK:\n",
    "            game_state = game_state.copy_inverted()\n",
    "        assert game_state.get_turn() == PlayerType.LIGHT\n",
    "\n",
    "        value = lut.lookup(0, encoding.encode_game_state(game_state))\n",
    "    if get_for_player != score_for_player:\n",
    "        value = 65535 - value\n",
    "    return value / 65535\n",
    "\n",
    "\n",
    "def get_all_possible_moves_of_all_possible_rolls(game: Game):\n",
    "    player_of_interest = game.get_turn()\n",
    "    all_possible_moves_of_all_possible_rolls = {}\n",
    "    for dice in range(5):\n",
    "        all_possible_moves_of_all_possible_rolls[dice] = []\n",
    "        game_copy = game.copy()\n",
    "        game_copy.roll_dice(dice)\n",
    "        if game_copy.is_waiting_for_roll():\n",
    "            lut_value = lut_get_value(game_copy.get_current_state(), player_of_interest)\n",
    "            # no possible moves, put score of the new state after no moves\n",
    "            all_possible_moves_of_all_possible_rolls[dice].append({\"score\": lut_value, \"dice\": dice})\n",
    "            continue\n",
    "\n",
    "        for move in game_copy.find_available_moves():\n",
    "            game_copy_copy = game_copy.copy()\n",
    "            game_copy_copy.make_move(move)\n",
    "            lut_value = lut_get_value(game_copy_copy.get_current_state(), player_of_interest)\n",
    "            # Since score is for current player and the player changes after a move, invert the score of the other player\n",
    "            all_possible_moves_of_all_possible_rolls[dice].append({\"score\": lut_value, \"dice\": dice})\n",
    "        assert len(all_possible_moves_of_all_possible_rolls[dice]) > 0\n",
    "\n",
    "    return all_possible_moves_of_all_possible_rolls\n",
    "\n",
    "\n",
    "def compute_dice_luck_metric(rolled_dice, all_possible_moves_of_all_possible_rolls):\n",
    "    # pick the best/worst possible move score in all_possible_moves_of_all_possible_rolls\n",
    "    best_by_dice = {\n",
    "        dice: max(all_possible_moves_of_all_possible_rolls[dice], key=lambda x: x[\"score\"])\n",
    "        for dice in all_possible_moves_of_all_possible_rolls\n",
    "    }\n",
    "    # pick the best of the best dice\n",
    "    best_roll = max(best_by_dice.values(), key=lambda x: x[\"score\"])\n",
    "    best_score = best_roll[\"score\"]\n",
    "    # pick the worst of the best dice\n",
    "    worst_roll = min(best_by_dice.values(), key=lambda x: x[\"score\"])\n",
    "    worst_score = worst_roll[\"score\"]\n",
    "    \n",
    "    return (best_by_dice[rolled_dice][\"score\"] - worst_score) / (best_score - worst_score)\n",
    "\n",
    "\n",
    "def compute_dice_luck_metric_sort(rolled_dice, all_possible_moves_of_all_possible_rolls):\n",
    "    # pick the best/worst possible move score in all_possible_moves_of_all_possible_rolls\n",
    "    best_by_dice = {\n",
    "        dice: max(all_possible_moves_of_all_possible_rolls[dice], key=lambda x: x[\"score\"])\n",
    "        for dice in all_possible_moves_of_all_possible_rolls\n",
    "    }\n",
    "    \n",
    "    # sort the dice by best score\n",
    "    sorted_dice = sorted(best_by_dice.items(), key=lambda x: x[1][\"score\"], reverse=True)\n",
    "    \n",
    "    # determine the order that the rolled dice is in\n",
    "    rolled_dice_order = [dice for dice, _ in sorted_dice].index(rolled_dice)\n",
    "\n",
    "    # compute score, where 0 is the worst and 1 is the best\n",
    "    return rolled_dice_order\n",
    "\n",
    "\n",
    "def compute_dice_luck_metric_absolute(rolled_dice, all_possible_moves_of_all_possible_rolls):\n",
    "    # pick the best/worst possible move score in all_possible_moves_of_all_possible_rolls\n",
    "    best_by_dice = {\n",
    "        dice: max(all_possible_moves_of_all_possible_rolls[dice], key=lambda x: x[\"score\"])\n",
    "        for dice in all_possible_moves_of_all_possible_rolls\n",
    "    }\n",
    "\n",
    "    # compute score, where 0 is the worst and 1 is the best\n",
    "    return best_by_dice[rolled_dice][\"score\"]\n",
    "\n",
    "\n",
    "def compute_move_quality_metric(game: Game, moves, picked_move):\n",
    "    if len(moves) <= 1:\n",
    "        return None\n",
    "    player_of_interest = game.get_turn()\n",
    "    move_score_map = {}\n",
    "    for move in moves:\n",
    "        game_copy = game.copy()\n",
    "        game_copy.make_move(move)\n",
    "        lut_value = lut_get_value(game_copy.get_current_state(), player_of_interest)\n",
    "        move_score_map[move] = lut_value\n",
    "    \n",
    "    best_move = max(move_score_map.items(), key=lambda x: x[1])\n",
    "    best_score = best_move[1]\n",
    "    # pick the worst of the best dice\n",
    "    worst_move = min(move_score_map.items(), key=lambda x: x[1])\n",
    "    worst_score = worst_move[1]\n",
    "    if best_score == worst_score:\n",
    "        return None\n",
    "    return (move_score_map[picked_move] - worst_score) / (best_score - worst_score)\n",
    "\n",
    "\n",
    "\n",
    "def compute_move_quality_metric_sort(game: Game, moves, picked_move):\n",
    "    if len(moves) <= 1:\n",
    "        return None\n",
    "    player_of_interest = game.get_turn()\n",
    "    move_score_map = {}\n",
    "    for move in moves:\n",
    "        game_copy = game.copy()\n",
    "        game_copy.make_move(move)\n",
    "        lut_value = lut_get_value(game_copy.get_current_state(), player_of_interest)\n",
    "        move_score_map[move] = lut_value\n",
    "    \n",
    "    # sort the moves by best score\n",
    "    sorted_moves = sorted(move_score_map.items(), key=lambda x: x[1], reverse=True)\n",
    "\n",
    "    # determine the order that the picked move is in\n",
    "    picked_move_order = [move for move, _ in sorted_moves].index(picked_move)\n",
    "\n",
    "    # compute score, where 0 is the best\n",
    "    return picked_move_order\n",
    "\n",
    "\n",
    "all_dark_skill_points = []\n",
    "all_light_skill_points = []\n",
    "all_light_luck_points = []\n",
    "all_dark_luck_points = []\n",
    "\n",
    "def _play_randomly(game: Game):\n",
    "    light_skill_points = []\n",
    "    dark_skill_points = []\n",
    "    light_luck_points = []\n",
    "    dark_luck_points = []\n",
    "    while not game.is_finished():\n",
    "        if game.is_waiting_for_roll():\n",
    "            all_possibilities = get_all_possible_moves_of_all_possible_rolls(game)\n",
    "            #print(all_possibilities)\n",
    "            roll = game.roll_dice()\n",
    "            # compute dice luck metric\n",
    "            #dice_luck_metric = compute_dice_luck_metric_sort(roll.value, all_possibilities)\n",
    "            dice_luck_metric = compute_dice_luck_metric(roll.value, all_possibilities)\n",
    "            #dice_luck_metric = compute_dice_luck_metric_absolute(roll.value, all_possibilities)\n",
    "            if dice_luck_metric is not None:\n",
    "                if game.get_turn() == PlayerType.LIGHT:\n",
    "                    light_luck_points.append(dice_luck_metric)\n",
    "                else:\n",
    "                    dark_luck_points.append(dice_luck_metric)\n",
    "            #print(f\"Rolled: {roll.value}, dice luck metric: {dice_luck_metric}\")\n",
    "        else:\n",
    "            player = game.get_turn()\n",
    "            moves = game.find_available_moves()\n",
    "            if player == PlayerType.LIGHT:\n",
    "                move = lut_player.play(game)\n",
    "            else:\n",
    "                move = moves[random.randint(0, len(moves) - 1)]\n",
    "            skill_metric = compute_move_quality_metric_sort(game, moves, move)\n",
    "            #skill_metric = compute_move_quality_metric(game, moves, move)\n",
    "            if skill_metric is not None:\n",
    "                if player == PlayerType.LIGHT:\n",
    "                    light_skill_points.append(skill_metric)\n",
    "                else:\n",
    "                    dark_skill_points.append(skill_metric)\n",
    "            #print(skill_metric)\n",
    "            # compute move quality metric\n",
    "            game.make_move(move)\n",
    "\n",
    "    all_dark_skill_points.extend(dark_skill_points)\n",
    "    all_light_skill_points.extend(light_skill_points)\n",
    "    all_light_luck_points.extend(light_luck_points)\n",
    "    all_dark_luck_points.extend(dark_luck_points)\n",
    "    \n"
   ]
  },
  {
   "cell_type": "code",
   "execution_count": 51,
   "metadata": {},
   "outputs": [
    {
     "name": "stderr",
     "output_type": "stream",
     "text": [
      "  0%|          | 0/100 [00:00<?, ?it/s]"
     ]
    },
    {
     "name": "stderr",
     "output_type": "stream",
     "text": [
      "100%|██████████| 100/100 [00:17<00:00,  5.79it/s]\n"
     ]
    },
    {
     "data": {
      "text/plain": [
       "[None,\n",
       " None,\n",
       " None,\n",
       " None,\n",
       " None,\n",
       " None,\n",
       " None,\n",
       " None,\n",
       " None,\n",
       " None,\n",
       " None,\n",
       " None,\n",
       " None,\n",
       " None,\n",
       " None,\n",
       " None,\n",
       " None,\n",
       " None,\n",
       " None,\n",
       " None,\n",
       " None,\n",
       " None,\n",
       " None,\n",
       " None,\n",
       " None,\n",
       " None,\n",
       " None,\n",
       " None,\n",
       " None,\n",
       " None,\n",
       " None,\n",
       " None,\n",
       " None,\n",
       " None,\n",
       " None,\n",
       " None,\n",
       " None,\n",
       " None,\n",
       " None,\n",
       " None,\n",
       " None,\n",
       " None,\n",
       " None,\n",
       " None,\n",
       " None,\n",
       " None,\n",
       " None,\n",
       " None,\n",
       " None,\n",
       " None,\n",
       " None,\n",
       " None,\n",
       " None,\n",
       " None,\n",
       " None,\n",
       " None,\n",
       " None,\n",
       " None,\n",
       " None,\n",
       " None,\n",
       " None,\n",
       " None,\n",
       " None,\n",
       " None,\n",
       " None,\n",
       " None,\n",
       " None,\n",
       " None,\n",
       " None,\n",
       " None,\n",
       " None,\n",
       " None,\n",
       " None,\n",
       " None,\n",
       " None,\n",
       " None,\n",
       " None,\n",
       " None,\n",
       " None,\n",
       " None,\n",
       " None,\n",
       " None,\n",
       " None,\n",
       " None,\n",
       " None,\n",
       " None,\n",
       " None,\n",
       " None,\n",
       " None,\n",
       " None,\n",
       " None,\n",
       " None,\n",
       " None,\n",
       " None,\n",
       " None,\n",
       " None,\n",
       " None,\n",
       " None,\n",
       " None,\n",
       " None]"
      ]
     },
     "execution_count": 51,
     "metadata": {},
     "output_type": "execute_result"
    }
   ],
   "source": [
    "from embarrassing import embarrassing\n",
    "\n",
    "embarrassing(range(100), lambda x: _play_randomly(Game.create_finkel()), n_jobs=1)"
   ]
  },
  {
   "cell_type": "code",
   "execution_count": 52,
   "metadata": {},
   "outputs": [],
   "source": [
    "import pandas as pd\n",
    "\n",
    "dark_skill_series = pd.Series(all_dark_skill_points)\n",
    "dark_luck_series = pd.Series(all_dark_luck_points)\n",
    "light_skill_series = pd.Series(all_light_skill_points)\n",
    "light_luck_series = pd.Series(all_light_luck_points)"
   ]
  },
  {
   "cell_type": "code",
   "execution_count": 53,
   "metadata": {},
   "outputs": [
    {
     "data": {
      "text/plain": [
       "<Axes: >"
      ]
     },
     "execution_count": 53,
     "metadata": {},
     "output_type": "execute_result"
    },
    {
     "data": {
      "image/png": "[encoded data removed]",
      "text/plain": [
       "<Figure size 640x480 with 1 Axes>"
      ]
     },
     "metadata": {},
     "output_type": "display_data"
    }
   ],
   "source": [
    "dark_luck_series.hist(bins=50)"
   ]
  },
  {
   "cell_type": "code",
   "execution_count": 54,
   "metadata": {},
   "outputs": [
    {
     "data": {
      "text/plain": [
       "(0.500011154967868,\n",
       " 0.3001865474957765,\n",
       " 0.5718617244905921,\n",
       " 0.30772873249088367)"
      ]
     },
     "execution_count": 54,
     "metadata": {},
     "output_type": "execute_result"
    }
   ],
   "source": [
    "dark_luck_series.mean(), dark_luck_series.std(), light_luck_series.mean(), light_luck_series.std()"
   ]
  },
  {
   "cell_type": "code",
   "execution_count": 55,
   "metadata": {},
   "outputs": [
    {
     "data": {
      "text/plain": [
       "<Axes: >"
      ]
     },
     "execution_count": 55,
     "metadata": {},
     "output_type": "execute_result"
    },
    {
     "data": {
      "image/png": "[encoded data removed]",
      "text/plain": [
       "<Figure size 640x480 with 1 Axes>"
      ]
     },
     "metadata": {},
     "output_type": "display_data"
    }
   ],
   "source": [
    "light_luck_series.hist(bins=50)"
   ]
  },
  {
   "cell_type": "code",
   "execution_count": 26,
   "metadata": {},
   "outputs": [
    {
     "data": {
      "text/plain": [
       "<Axes: >"
      ]
     },
     "execution_count": 26,
     "metadata": {},
     "output_type": "execute_result"
    },
    {
     "data": {
      "image/png": "[encoded data removed]",
      "text/plain": [
       "<Figure size 640x480 with 1 Axes>"
      ]
     },
     "metadata": {},
     "output_type": "display_data"
    }
   ],
   "source": [
    "light_skill_series.hist(bins=50)"
   ]
  },
  {
   "cell_type": "code",
   "execution_count": 27,
   "metadata": {},
   "outputs": [
    {
     "data": {
      "text/plain": [
       "<Axes: >"
      ]
     },
     "execution_count": 27,
     "metadata": {},
     "output_type": "execute_result"
    },
    {
     "data": {
      "image/png": "[encoded data removed]",
      "text/plain": [
       "<Figure size 640x480 with 1 Axes>"
      ]
     },
     "metadata": {},
     "output_type": "display_data"
    }
   ],
   "source": [
    "dark_skill_series.hist(bins=6)"
   ]
  },
  {
   "cell_type": "code",
   "execution_count": 28,
   "metadata": {},
   "outputs": [
    {
     "data": {
      "text/plain": [
       "(0.814768249202477, 0.0)"
      ]
     },
     "execution_count": 28,
     "metadata": {},
     "output_type": "execute_result"
    }
   ],
   "source": [
    "dark_skill_series.mean(), light_skill_series.mean()"
   ]
  }
 ],
 "metadata": {
  "kernelspec": {
   "display_name": "ur-lut-visualizer-OffVFizb-py3.10",
   "language": "python",
   "name": "python3"
  },
  "language_info": {
   "codemirror_mode": {
    "name": "ipython",
    "version": 3
   },
   "file_extension": ".py",
   "mimetype": "text/x-python",
   "name": "python",
   "nbconvert_exporter": "python",
   "pygments_lexer": "ipython3",
   "version": "3.10.11"
  }
 },
 "nbformat": 4,
 "nbformat_minor": 2
}
